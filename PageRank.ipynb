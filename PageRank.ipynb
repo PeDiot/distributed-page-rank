{
 "cells": [
  {
   "cell_type": "markdown",
   "id": "4IyQbljqMC2f",
   "metadata": {
    "id": "4IyQbljqMC2f"
   },
   "source": [
    "# 0. Libraries and Dependencies"
   ]
  },
  {
   "cell_type": "code",
   "execution_count": null,
   "id": "7fafb158-0366-4ec9-a51e-c37cec6d27c4",
   "metadata": {
    "colab": {
     "base_uri": "https://localhost:8080/"
    },
    "id": "7fafb158-0366-4ec9-a51e-c37cec6d27c4",
    "outputId": "2d3adcef-1de6-4ae0-bef3-734ce6c1d7db",
    "tags": []
   },
   "outputs": [],
   "source": [
    "!pip install pycuda\n",
    "!pip install cython"
   ]
  },
  {
   "cell_type": "code",
   "execution_count": 1,
   "id": "267443f7-2e51-459d-997f-308421ce78d2",
   "metadata": {
    "id": "267443f7-2e51-459d-997f-308421ce78d2",
    "tags": []
   },
   "outputs": [],
   "source": [
    "import numpy as np\n",
    "import pandas as pd\n",
    "import pycuda.driver as cuda\n",
    "import pycuda.autoinit\n",
    "from pycuda.compiler import SourceModule\n",
    "from pycuda import driver, compiler, gpuarray, tools\n",
    "import numpy as np\n",
    "from scipy.sparse import coo_matrix\n",
    "import scipy.sparse\n",
    "from scipy.sparse import coo_matrix\n",
    "import scipy.sparse.csgraph\n",
    "from timeit import Timer\n",
    "from concurrent.futures import ProcessPoolExecutor\n",
    "import matplotlib.pyplot as plt\n",
    "import time\n",
    "import multiprocessing\n"
   ]
  },
  {
   "cell_type": "markdown",
   "id": "7B_tp0oDNry7",
   "metadata": {
    "id": "7B_tp0oDNry7"
   },
   "source": [
    "# 1. Generates a Random Graph"
   ]
  },
  {
   "cell_type": "code",
   "execution_count": 2,
   "id": "cb063d6c-02a5-4665-a0a7-774e55c9dc11",
   "metadata": {
    "id": "cb063d6c-02a5-4665-a0a7-774e55c9dc11",
    "tags": []
   },
   "outputs": [],
   "source": [
    "def generate_connected_graph(n_nodes, min_conn_per_node): \n",
    "    \"\"\"\n",
    "    Generates a connected graph with a specified number of nodes and minimum number of connections per node using a random algorithm.\n",
    "\n",
    "    Parameters:\n",
    "        n_nodes (int): The number of nodes in the graph.\n",
    "        min_conn_per_node (int): The minimum number of connections per node.\n",
    "\n",
    "    Returns:\n",
    "        scipy.sparse.coo_matrix: The adjacency matrix of the generated graph in COO format.\n",
    "    \"\"\"\n",
    "\n",
    "\n",
    "    # Initialize graph with all nodes having one connection (i.e., self-connection)\n",
    "    graph = np.zeros((n_nodes, n_nodes))\n",
    "    for i in range(n_nodes):\n",
    "        graph[i, i] = 1\n",
    "\n",
    "    # Establishes additional connections\n",
    "    while True:\n",
    "        # Check if all nodes have minimum number of connections\n",
    "        if (graph.sum(axis=1) >= min_conn_per_node).all():\n",
    "            break\n",
    "\n",
    "        # Randomly select a node with fewer than minimum number of connections\n",
    "        node = np.random.choice(np.where(graph.sum(axis=1) < min_conn_per_node)[0])\n",
    "\n",
    "        # Create connections until minimum number of connections is reached\n",
    "        while graph[node].sum() < min_conn_per_node:\n",
    "            # Randomly select a node to connect to\n",
    "            connect_to = np.random.randint(0, n_nodes)\n",
    "\n",
    "            # Check if nodes are already connected\n",
    "            if graph[node, connect_to] == 1 or graph[connect_to, node] == 1:\n",
    "                continue\n",
    "\n",
    "            # Add connection between nodes\n",
    "            graph[node, connect_to] = 1\n",
    "            graph[connect_to, node] = 1\n",
    "\n",
    "    # Convert graph to COO format\n",
    "    coo = scipy.sparse.coo_matrix(graph)\n",
    "    \n",
    "    return coo\n",
    "\n",
    "\n"
   ]
  },
  {
   "cell_type": "code",
   "execution_count": null,
   "id": "2004d108-54be-4e4a-be4c-5c974ae29389",
   "metadata": {
    "tags": []
   },
   "outputs": [],
   "source": [
    "# n_nodes = 500\n",
    "# min_conn_per_node = 20\n",
    "# graph_coo = generate_connected_graph(n_nodes, min_conn_per_node)\n",
    "\n",
    "# # # Select a random node\n",
    "# node = np.random.randint(0, n_nodes)\n",
    "# # Check the number of edges for this node\n",
    "# print(f\"Number of edges for node {node}: {graph_coo.getrow(node).sum()}\")"
   ]
  },
  {
   "cell_type": "markdown",
   "id": "TLmoVQMLMxwR",
   "metadata": {
    "id": "TLmoVQMLMxwR"
   },
   "source": [
    "# 2. NumPy/Naive Implementation of PageRank"
   ]
  },
  {
   "cell_type": "code",
   "execution_count": 3,
   "id": "ce869d94-3de4-4b9d-938f-ca18d6b8ce3d",
   "metadata": {
    "id": "ce869d94-3de4-4b9d-938f-ca18d6b8ce3d",
    "tags": []
   },
   "outputs": [],
   "source": [
    "def pagerank_numpy(graph_coo, max_iter, tol):\n",
    "    \"\"\"\n",
    "    Computes the PageRank score of each node in the graph using NumPy.\n",
    "\n",
    "    Parameters:\n",
    "    graph_coo (scipy.sparse.coo_matrix): The adjacency matrix of the graph in COO format.\n",
    "    max_iter (int): The maximum number of iterations. Default is 100.\n",
    "    tol (float): The tolerance for convergence. Default is 1e-6.\n",
    "\n",
    "    Returns:\n",
    "    numpy.ndarray: The PageRank scores of each node in the graph.\n",
    "    \"\"\"\n",
    "\n",
    "    # Convert COO matrix to CSR matrix\n",
    "    graph_csr = graph_coo.tocsr()\n",
    "    N = graph_csr.shape[0]\n",
    "\n",
    "    # Calculate the out-degree for each node\n",
    "    out_degree = graph_csr.sum(axis=1).A.ravel().astype(np.float32)\n",
    "\n",
    "    # Initialize the PageRank score for each node\n",
    "    x = np.full(N, 1/N, dtype=np.float32)\n",
    "\n",
    "    # Run the PageRank algorithm\n",
    "    damping_factor = 0.85\n",
    "    for _ in range(max_iter):\n",
    "        prev_x = x.copy()\n",
    "        for i in range(N):\n",
    "            sum = 0.0\n",
    "            for j in range(graph_csr.indptr[i], graph_csr.indptr[i+1]):\n",
    "                col = graph_csr.indices[j]\n",
    "                sum += graph_csr.data[j] * prev_x[col] / out_degree[col]\n",
    "            x[i] = damping_factor * sum + (1 - damping_factor) / N\n",
    "        if np.abs(prev_x - x).max() < tol:\n",
    "            break\n",
    "\n",
    "    return x"
   ]
  },
  {
   "cell_type": "markdown",
   "id": "VlEywNx7XQnB",
   "metadata": {
    "id": "VlEywNx7XQnB"
   },
   "source": [
    "# 3. Parallel Implementation on CPU (Cython)"
   ]
  },
  {
   "cell_type": "code",
   "execution_count": null,
   "id": "b027986b-bbc9-4e9e-90be-5e85be7433d7",
   "metadata": {},
   "outputs": [],
   "source": [
    "%load_ext Cython"
   ]
  },
  {
   "cell_type": "code",
   "execution_count": null,
   "id": "ef108c2b-9c00-4737-969d-9e8f77df582c",
   "metadata": {
    "id": "ef108c2b-9c00-4737-969d-9e8f77df582c",
    "tags": []
   },
   "outputs": [],
   "source": [
    "%%cython --cplus\n",
    "\n",
    "import numpy as np\n",
    "import scipy.sparse as sp\n",
    "from joblib import Parallel, delayed\n",
    "cimport numpy as np\n",
    "cimport cython\n",
    "\n",
    "@cython.boundscheck(False)\n",
    "@cython.wraparound(False)\n",
    "def pagerank_step(int i, int[:] indptr, int[:] indices, double[:] data, double[:] prev_x, double[:] out_degree, double damping_factor, int N):\n",
    "    cdef:\n",
    "        int j, col\n",
    "        double sum = 0.0\n",
    "    for j in range(indptr[i], indptr[i+1]):\n",
    "        col = indices[j]\n",
    "        sum += data[j] * prev_x[col] / out_degree[col]\n",
    "    return damping_factor * sum + (1 - damping_factor) / N\n",
    "\n",
    "def pagerank_cython(graph_coo, max_iter=100, tol=1e-6, num_threads=-1):\n",
    "    \"\"\"\n",
    "    Computes the PageRank score of each node in the graph using with parallelization using CPU threads.\n",
    "\n",
    "    Parameters:\n",
    "        graph_coo (scipy.sparse.coo_matrix): The adjacency matrix of the graph in COO format.\n",
    "        max_iter (int): The maximum number of iterations. Default is 100.\n",
    "        tol (float): The tolerance for convergence. Default is 1e-6.\n",
    "        num_threads (int): The number of threads to use for parallelization. Default is the number of CPU cores.\n",
    "\n",
    "    Returns:\n",
    "        numpy.ndarray: The PageRank scores of each node in the graph.\n",
    "    \"\"\"\n",
    "    # Convert COO matrix to CSR matrix\n",
    "    graph_csr = graph_coo.tocsr()\n",
    "    cdef int N = graph_csr.shape[0]\n",
    "\n",
    "    # Calculate the out-degree for each node\n",
    "    out_degree = graph_csr.sum(axis=1).A.ravel().astype(np.float64)\n",
    "\n",
    "    # Initialize the PageRank score for each node\n",
    "    x = np.full(N, 1/N, dtype=np.float64)\n",
    "\n",
    "    # Run the PageRank algorithm\n",
    "    cdef double damping_factor = 0.85\n",
    "    cdef int iter_num\n",
    "    if num_threads < 1:\n",
    "        num_threads = None\n",
    "    with Parallel(n_jobs=num_threads) as parallel:\n",
    "        for iter_num in range(max_iter):\n",
    "            prev_x = x.copy()\n",
    "            results = parallel(delayed(pagerank_step)(i, graph_csr.indptr, graph_csr.indices, graph_csr.data, prev_x, out_degree, damping_factor, N) for i in range(N))\n",
    "            x = np.array(results)\n",
    "            if np.abs(prev_x - x).max() < tol:\n",
    "                break\n",
    "    x_sum = x.sum()\n",
    "    if x_sum > 0:\n",
    "        x /= x_sum\n",
    "    return x\n",
    "\n"
   ]
  },
  {
   "cell_type": "markdown",
   "id": "E-6R-cWKXZYJ",
   "metadata": {
    "id": "E-6R-cWKXZYJ"
   },
   "source": [
    "# 4. Parallel Implementation on GPU (PyCUDA)"
   ]
  },
  {
   "cell_type": "code",
   "execution_count": 4,
   "id": "4ec25767-116c-4586-89dd-dbaac880bb6a",
   "metadata": {
    "id": "4ec25767-116c-4586-89dd-dbaac880bb6a",
    "tags": []
   },
   "outputs": [],
   "source": [
    "def pagerank_gpu(graph, max_iter, tol):\n",
    "    \"\"\"\n",
    "    Computes the PageRank score of each node in the graph with GPU parallelization using PyCUDA.\n",
    "\n",
    "    Parameters:\n",
    "    graph (scipy.sparse.csr_matrix): The adjacency matrix of the graph in CSR format.\n",
    "    max_iter (int): The maximum number of iterations. Default is 1000.\n",
    "    tol (float): The tolerance for convergence. Default is 1e-6.\n",
    "\n",
    "    Returns:\n",
    "    numpy.ndarray: The PageRank scores of each node in the graph.\n",
    "    \"\"\"\n",
    "\n",
    "    # Convert the graph to the CSR format\n",
    "    graph = graph.tocsr()\n",
    "    N = graph.shape[0]\n",
    "    edges = graph.indices.astype(np.int32)\n",
    "    indptr = graph.indptr.astype(np.int32)\n",
    "    out_degree = np.diff(indptr).astype(np.int32)\n",
    "    pagerank = np.ones(N, dtype=np.float32) / N\n",
    "    damping_factor = 0.85\n",
    "    teleport_probability = (1.0 - damping_factor) / N\n",
    "\n",
    "    # Find dangling nodes\n",
    "    dangling_nodes = np.where(out_degree == 0)[0]\n",
    "    dangling_rank = np.sum(pagerank[dangling_nodes])\n",
    "\n",
    "    # Define the pagerank kernel\n",
    "    pagerank_kernel_code = \"\"\"\n",
    "        __global__ void pagerank_kernel(float *pagerank, const int *edges, const int *indptr, const int *out_degree, const float damping_factor, const float teleport_probability, const float dangling_rank)\n",
    "        {\n",
    "            const int i = blockIdx.x * blockDim.x + threadIdx.x;\n",
    "            const int N = %(N)s;\n",
    "            const float one_minus_damping = 1.0f - damping_factor;\n",
    "\n",
    "            if (i < N) {\n",
    "                float sum = 0.0f;\n",
    "                for (int j = indptr[i]; j < indptr[i+1]; j++) {\n",
    "                    const int neighbor = edges[j];\n",
    "                    const int neighbor_degree = out_degree[neighbor];\n",
    "                    sum += pagerank[neighbor] / neighbor_degree;\n",
    "                }\n",
    "                pagerank[i] = one_minus_damping * teleport_probability + damping_factor * sum + one_minus_damping * dangling_rank / N;\n",
    "            }\n",
    "        }\n",
    "    \"\"\" % {\"N\": N}\n",
    "    pagerank_kernel = SourceModule(pagerank_kernel_code).get_function(\"pagerank_kernel\")\n",
    "\n",
    "    # Run the pagerank algorithm\n",
    "    last_pagerank = np.zeros(N, dtype=np.float32)\n",
    "    for i in range(max_iter):\n",
    "        pagerank_kernel(cuda.InOut(pagerank), cuda.In(edges), cuda.In(indptr), cuda.In(out_degree), np.float32(damping_factor), np.float32(teleport_probability), np.float32(dangling_rank), block=(128, 1, 1), grid=((N + 127) // 128, 1, 1))\n",
    "        cuda.Context.synchronize()\n",
    "        if np.linalg.norm(pagerank - last_pagerank, np.inf) < tol:\n",
    "            break\n",
    "            \n",
    "        last_pagerank[:] = pagerank\n",
    "        \n",
    "    # Normalize the pagerank vector to sum up to 1\n",
    "    pagerank /= np.sum(pagerank)\n",
    "\n",
    "    return pagerank\n"
   ]
  },
  {
   "cell_type": "markdown",
   "id": "3oR_rV2SXgOU",
   "metadata": {
    "id": "3oR_rV2SXgOU"
   },
   "source": [
    "# 5. Results"
   ]
  },
  {
   "cell_type": "markdown",
   "id": "V8j44OSHYxlB",
   "metadata": {
    "id": "V8j44OSHYxlB"
   },
   "source": [
    "## 5.1 Hyperparametter Setting"
   ]
  },
  {
   "cell_type": "code",
   "execution_count": 22,
   "id": "lbSXS_SMY1Vk",
   "metadata": {
    "id": "lbSXS_SMY1Vk",
    "tags": []
   },
   "outputs": [],
   "source": [
    "max_iter = 100\n",
    "tol = 1.0e-6\n",
    "num_threads=-1"
   ]
  },
  {
   "cell_type": "markdown",
   "id": "JIF1qhvvY3pl",
   "metadata": {
    "id": "JIF1qhvvY3pl"
   },
   "source": [
    "## 5.2 Comparison of results"
   ]
  },
  {
   "cell_type": "code",
   "execution_count": 24,
   "id": "6cTi1ogLY203",
   "metadata": {
    "id": "6cTi1ogLY203",
    "tags": []
   },
   "outputs": [],
   "source": [
    "def compute_pagerank_times(node_list, conn_list, max_iter, tol, num_threads):\n",
    "\n",
    "    \"\"\"\n",
    "    Computes the PageRank score of each node in the graph using NumPy with CPU parallelization.\n",
    "\n",
    "    Parameters:\n",
    "    node_list (list): A list of integers specifying the number of nodes in each graph.\n",
    "    conn_list (list): A list of integers specifying the minimum number of connections per node in each graph.\n",
    "    max_iter (int): The maximum number of iterations. Default is 100.\n",
    "    tol (float): The tolerance for convergence. Default is 1e-6.\n",
    "\n",
    "    Returns:\n",
    "    pandas.DataFrame: A DataFrame containing the results of the PageRank computation for each graph. The DataFrame\n",
    "    has the following columns:\n",
    "    - num_nodes (int): The number of nodes in the graph.\n",
    "    - min_conn_per_node (int): The minimum number of connections per node in the graph.\n",
    "    - numpy_time: The time taken to compute the PageRank score using the numPy/naive implementation.\n",
    "    - cpu_time (float): The time taken to compute the PageRank score using the parallelized CPU implementation.\n",
    "    - gpu_time (float): The time taken to compute the PageRank score using the parallelized GPU implementation.\n",
    "    \"\"\"\n",
    "\n",
    "    df = pd.DataFrame(columns=['num_nodes', 'min_conn_per_node', 'numpy_time', 'cpu_time', 'gpu_time', 'MSE'])\n",
    "    \n",
    "    for i, n_nodes in enumerate(node_list):\n",
    "        min_conn_per_node = conn_list[i]\n",
    "        \n",
    "        # Generate a sparse graph\n",
    "        graph_coo = generate_connected_graph(n_nodes=n_nodes, min_conn_per_node=min_conn_per_node)\n",
    "        \n",
    "        # Compute the PageRank using the NumPy implementation\n",
    "        start_time = time.time()\n",
    "        pagerank_scores1 = pagerank_numpy(graph_coo, max_iter, tol)\n",
    "        numpy_time = time.time() - start_time\n",
    "        \n",
    "        # Compute the PageRank using the CPU implementation\n",
    "        start_time = time.time()\n",
    "        pagerank_scores2 = pagerank_cython(graph_coo, max_iter, tol, num_threads)\n",
    "        cpu_time = time.time() - start_time\n",
    "        \n",
    "        # Compute the PageRank using the GPU implementation\n",
    "        start_time = time.time()\n",
    "        pagerank_scores3 = pagerank_gpu(graph_coo, max_iter, tol)\n",
    "        gpu_time = time.time() - start_time\n",
    "        \n",
    "        # mse = ((pagerank_scores1 - pagerank_scores3) ** 2).mean()\n",
    "        \n",
    "        row_dict = {'num_nodes': n_nodes,\n",
    "                    'min_conn_per_node': min_conn_per_node,\n",
    "                    'numpy_time': numpy_time,\n",
    "                    'cpu_time': cpu_time,\n",
    "                    'gpu_time': gpu_time,\n",
    "                    # 'MSE': mse\n",
    "                   }\n",
    "        df = pd.concat([df, pd.DataFrame([row_dict])], ignore_index=True)\n",
    "        \n",
    "    return df"
   ]
  },
  {
   "cell_type": "code",
   "execution_count": 25,
   "id": "c1b6Tg-qbp5z",
   "metadata": {
    "id": "c1b6Tg-qbp5z",
    "tags": []
   },
   "outputs": [],
   "source": [
    "nodes_list = [1000, 2000, 4000, 6000, 8000, 10000]\n",
    "min_conn_list = [100, 200, 400, 600, 800, 1000]\n",
    "times_df= compute_pagerank_times(nodes_list, min_conn_list, max_iter, tol, num_threads)"
   ]
  },
  {
   "cell_type": "code",
   "execution_count": 28,
   "id": "39DK0vRJk3rR",
   "metadata": {
    "id": "39DK0vRJk3rR",
    "tags": []
   },
   "outputs": [],
   "source": [
    "# import pickle\n",
    "# with open('times_df3.pkl', 'wb') as handle:\n",
    "#     pickle.dump(times_df, handle, protocol=pickle.HIGHEST_PROTOCOL)"
   ]
  },
  {
   "cell_type": "code",
   "execution_count": 31,
   "id": "SrJAJttgdbqa",
   "metadata": {
    "id": "SrJAJttgdbqa",
    "tags": []
   },
   "outputs": [],
   "source": [
    "def plot_pagerank_times(df):\n",
    "    \"\"\"\n",
    "    Plots the PageRank computation time for different implementations.\n",
    "\n",
    "    Parameters:\n",
    "    df (pandas.DataFrame): A DataFrame containing the computation times for each implementation.\n",
    "\n",
    "    Returns:\n",
    "    None\n",
    "    \"\"\"\n",
    "    fig, ax = plt.subplots()\n",
    "\n",
    "    # Plot the GPU time\n",
    "    df.plot(x='num_nodes', y='gpu_time', ax=ax, label='GPU', color='lightseagreen')\n",
    "\n",
    "    # Plot the NumPy time\n",
    "    df.plot(x='num_nodes', y='numpy_time', ax=ax, label='NumPy', color='lightcoral')\n",
    "\n",
    "    # Plot the CPU time\n",
    "    df.plot(x='num_nodes', y='cpu_time', ax=ax, label='CPU', color='forestgreen')\n",
    "\n",
    "    # Set the title and axis labels\n",
    "    ax.set_title('PageRank computation time')\n",
    "    ax.set_xlabel('Number of nodes')\n",
    "    ax.set_ylabel('Time (seconds)')\n",
    "\n",
    "    # Display the legend\n",
    "    ax.legend()\n",
    "\n",
    "    # # Show the plot\n",
    "    plt.show()\n"
   ]
  },
  {
   "cell_type": "code",
   "execution_count": 32,
   "id": "c7npplyIdw-Q",
   "metadata": {
    "colab": {
     "base_uri": "https://localhost:8080/",
     "height": 166
    },
    "id": "c7npplyIdw-Q",
    "outputId": "c0993d96-c9e4-4c94-f20f-e15846a6a6c9",
    "tags": []
   },
   "outputs": [
    {
     "data": {
      "image/png": "[encoded data removed]",
      "text/plain": [
       "<Figure size 640x480 with 1 Axes>"
      ]
     },
     "metadata": {},
     "output_type": "display_data"
    }
   ],
   "source": [
    "plot_pagerank_times(times_df)"
   ]
  }
 ],
 "metadata": {
  "accelerator": "GPU",
  "colab": {
   "gpuType": "T4",
   "provenance": []
  },
  "gpuClass": "standard",
  "kernelspec": {
   "display_name": "Python 3 (ipykernel)",
   "language": "python",
   "name": "python3"
  },
  "language_info": {
   "codemirror_mode": {
    "name": "ipython",
    "version": 3
   },
   "file_extension": ".py",
   "mimetype": "text/x-python",
   "name": "python",
   "nbconvert_exporter": "python",
   "pygments_lexer": "ipython3",
   "version": "3.10.9"
  }
 },
 "nbformat": 4,
 "nbformat_minor": 5
}
