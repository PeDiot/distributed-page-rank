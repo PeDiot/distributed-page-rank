{
 "cells": [
  {
   "attachments": {},
   "cell_type": "markdown",
   "id": "4IyQbljqMC2f",
   "metadata": {
    "id": "4IyQbljqMC2f"
   },
   "source": [
    "# 0. Libraries and Dependencies"
   ]
  },
  {
   "cell_type": "code",
   "execution_count": 1,
   "id": "7fafb158-0366-4ec9-a51e-c37cec6d27c4",
   "metadata": {
    "colab": {
     "base_uri": "https://localhost:8080/"
    },
    "id": "7fafb158-0366-4ec9-a51e-c37cec6d27c4",
    "outputId": "2d3adcef-1de6-4ae0-bef3-734ce6c1d7db",
    "tags": []
   },
   "outputs": [
    {
     "name": "stdout",
     "output_type": "stream",
     "text": [
      "Looking in indexes: https://pypi.org/simple, https://us-python.pkg.dev/colab-wheels/public/simple/\n",
      "Collecting pycuda\n",
      "  Downloading pycuda-2022.2.2.tar.gz (1.7 MB)\n",
      "\u001b[2K     \u001b[90m━━━━━━━━━━━━━━━━━━━━━━━━━━━━━━━━━━━━━━━━\u001b[0m \u001b[32m1.7/1.7 MB\u001b[0m \u001b[31m21.5 MB/s\u001b[0m eta \u001b[36m0:00:00\u001b[0m\n",
      "\u001b[?25h  Installing build dependencies ... \u001b[?25l\u001b[?25hdone\n",
      "  Getting requirements to build wheel ... \u001b[?25l\u001b[?25hdone\n",
      "  Preparing metadata (pyproject.toml) ... \u001b[?25l\u001b[?25hdone\n",
      "Collecting pytools>=2011.2 (from pycuda)\n",
      "  Downloading pytools-2022.1.14.tar.gz (74 kB)\n",
      "\u001b[2K     \u001b[90m━━━━━━━━━━━━━━━━━━━━━━━━━━━━━━━━━━━━━━━━\u001b[0m \u001b[32m74.6/74.6 kB\u001b[0m \u001b[31m10.8 MB/s\u001b[0m eta \u001b[36m0:00:00\u001b[0m\n",
      "\u001b[?25h  Preparing metadata (setup.py) ... \u001b[?25l\u001b[?25hdone\n",
      "Requirement already satisfied: appdirs>=1.4.0 in /usr/local/lib/python3.10/dist-packages (from pycuda) (1.4.4)\n",
      "Collecting mako (from pycuda)\n",
      "  Downloading Mako-1.2.4-py3-none-any.whl (78 kB)\n",
      "\u001b[2K     \u001b[90m━━━━━━━━━━━━━━━━━━━━━━━━━━━━━━━━━━━━━━━━\u001b[0m \u001b[32m78.7/78.7 kB\u001b[0m \u001b[31m11.9 MB/s\u001b[0m eta \u001b[36m0:00:00\u001b[0m\n",
      "\u001b[?25hRequirement already satisfied: platformdirs>=2.2.0 in /usr/local/lib/python3.10/dist-packages (from pytools>=2011.2->pycuda) (3.3.0)\n",
      "Requirement already satisfied: typing_extensions>=4.0 in /usr/local/lib/python3.10/dist-packages (from pytools>=2011.2->pycuda) (4.5.0)\n",
      "Requirement already satisfied: MarkupSafe>=0.9.2 in /usr/local/lib/python3.10/dist-packages (from mako->pycuda) (2.1.2)\n",
      "Building wheels for collected packages: pycuda, pytools\n",
      "  Building wheel for pycuda (pyproject.toml) ... \u001b[?25l\u001b[?25hdone\n",
      "  Created wheel for pycuda: filename=pycuda-2022.2.2-cp310-cp310-linux_x86_64.whl size=661975 sha256=6c81bc4a2e5df5caf7438f2169d60b3e521e4450d5f7e79ef159ac1d60f29058\n",
      "  Stored in directory: /root/.cache/pip/wheels/1d/7b/06/82a395a243fce00035dea9914d92bbef0013401497d849f8bc\n",
      "  Building wheel for pytools (setup.py) ... \u001b[?25l\u001b[?25hdone\n",
      "  Created wheel for pytools: filename=pytools-2022.1.14-py2.py3-none-any.whl size=69855 sha256=dfafce9c1c6725e2d6c094645f238b2fda9d2a327bc542f478f50011034184a8\n",
      "  Stored in directory: /root/.cache/pip/wheels/19/02/16/aa2498ad7aa723a149ff7539f1918509661c0ae9d975b44b6d\n",
      "Successfully built pycuda pytools\n",
      "Installing collected packages: pytools, mako, pycuda\n",
      "Successfully installed mako-1.2.4 pycuda-2022.2.2 pytools-2022.1.14\n"
     ]
    }
   ],
   "source": [
    "!pip install pycuda"
   ]
  },
  {
   "cell_type": "code",
   "execution_count": 4,
   "id": "267443f7-2e51-459d-997f-308421ce78d2",
   "metadata": {
    "id": "267443f7-2e51-459d-997f-308421ce78d2",
    "tags": []
   },
   "outputs": [],
   "source": [
    "import numpy as np\n",
    "import pandas as pd\n",
    "# import pycuda.driver as cuda\n",
    "# import pycuda.autoinit\n",
    "# from pycuda.compiler import SourceModule\n",
    "# from pycuda import driver, compiler, gpuarray, tools\n",
    "import numpy as np\n",
    "from scipy.sparse import coo_matrix\n",
    "import scipy.sparse\n",
    "from scipy.sparse import coo_matrix\n",
    "import scipy.sparse.csgraph\n",
    "from timeit import Timer\n",
    "from concurrent.futures import ProcessPoolExecutor\n",
    "from typing import Any, Callable, Dict, List, Optional\n",
    "import matplotlib.pyplot as plt\n",
    "import time\n",
    "import pickle"
   ]
  },
  {
   "attachments": {},
   "cell_type": "markdown",
   "id": "7B_tp0oDNry7",
   "metadata": {
    "id": "7B_tp0oDNry7"
   },
   "source": [
    "# 1. Generates a Random Graph"
   ]
  },
  {
   "cell_type": "code",
   "execution_count": 7,
   "id": "cb063d6c-02a5-4665-a0a7-774e55c9dc11",
   "metadata": {
    "id": "cb063d6c-02a5-4665-a0a7-774e55c9dc11",
    "tags": []
   },
   "outputs": [],
   "source": [
    "def generate_connected_graph(n_nodes, min_conn_per_node): \n",
    "    \"\"\"\n",
    "    Generates a connected graph with a specified number of nodes and minimum number of connections per node using a random algorithm.\n",
    "\n",
    "    Parameters:\n",
    "        n_nodes (int): The number of nodes in the graph.\n",
    "        min_conn_per_node (int): The minimum number of connections per node.\n",
    "\n",
    "    Returns:\n",
    "        scipy.sparse.coo_matrix: The adjacency matrix of the generated graph in COO format.\n",
    "    \"\"\"\n",
    "\n",
    "\n",
    "    # Initialize graph with all nodes having one connection (i.e., self-connection)\n",
    "    graph = np.zeros((n_nodes, n_nodes))\n",
    "    for i in range(n_nodes):\n",
    "        graph[i, i] = 1\n",
    "\n",
    "    # Establishes additional connections\n",
    "    while True:\n",
    "        # Check if all nodes have minimum number of connections\n",
    "        if (graph.sum(axis=1) >= min_conn_per_node).all():\n",
    "            break\n",
    "\n",
    "        # Randomly select a node with fewer than minimum number of connections\n",
    "        node = np.random.choice(np.where(graph.sum(axis=1) < min_conn_per_node)[0])\n",
    "\n",
    "        # Create connections until minimum number of connections is reached\n",
    "        while graph[node].sum() < min_conn_per_node:\n",
    "            # Randomly select a node to connect to\n",
    "            connect_to = np.random.randint(0, n_nodes)\n",
    "\n",
    "            # Check if nodes are already connected\n",
    "            if graph[node, connect_to] == 1 or graph[connect_to, node] == 1:\n",
    "                continue\n",
    "\n",
    "            # Add connection between nodes\n",
    "            graph[node, connect_to] = 1\n",
    "            graph[connect_to, node] = 1\n",
    "\n",
    "    # Convert graph to COO format\n",
    "    coo = scipy.sparse.coo_matrix(graph)\n",
    "    \n",
    "    return coo\n"
   ]
  },
  {
   "cell_type": "code",
   "execution_count": 5,
   "id": "2004d108-54be-4e4a-be4c-5c974ae29389",
   "metadata": {
    "tags": []
   },
   "outputs": [],
   "source": [
    "n_nodes = 500\n",
    "min_conn_per_node = 20\n",
    "graph_coo = generate_connected_graph(n_nodes, min_conn_per_node)\n",
    "\n",
    "# # Select a random node\n",
    "node = np.random.randint(0, n_nodes)\n",
    "# Check the number of edges for this node\n",
    "print(f\"Number of edges for node {node}: {graph_coo.getrow(node).sum()}\")"
   ]
  },
  {
   "attachments": {},
   "cell_type": "markdown",
   "id": "TLmoVQMLMxwR",
   "metadata": {
    "id": "TLmoVQMLMxwR"
   },
   "source": [
    "# 2. NumPy/Naive Implementation of PageRank"
   ]
  },
  {
   "cell_type": "code",
   "execution_count": 6,
   "id": "ce869d94-3de4-4b9d-938f-ca18d6b8ce3d",
   "metadata": {
    "id": "ce869d94-3de4-4b9d-938f-ca18d6b8ce3d",
    "tags": []
   },
   "outputs": [],
   "source": [
    "def pagerank_numpy(graph_coo, max_iter, tol):\n",
    "    \"\"\"\n",
    "    Computes the PageRank score of each node in the graph using NumPy.\n",
    "\n",
    "    Parameters:\n",
    "    graph_coo (scipy.sparse.coo_matrix): The adjacency matrix of the graph in COO format.\n",
    "    max_iter (int): The maximum number of iterations. Default is 100.\n",
    "    tol (float): The tolerance for convergence. Default is 1e-6.\n",
    "\n",
    "    Returns:\n",
    "    numpy.ndarray: The PageRank scores of each node in the graph.\n",
    "    \"\"\"\n",
    "\n",
    "    # Convert COO matrix to CSR matrix\n",
    "    graph_csr = graph_coo.tocsr()\n",
    "    N = graph_csr.shape[0]\n",
    "\n",
    "    # Calculate the out-degree for each node\n",
    "    out_degree = graph_csr.sum(axis=1).A.ravel().astype(np.float32)\n",
    "\n",
    "    # Initialize the PageRank score for each node\n",
    "    x = np.full(N, 1/N, dtype=np.float32)\n",
    "\n",
    "    # Run the PageRank algorithm\n",
    "    damping_factor = 0.85\n",
    "    for _ in range(max_iter):\n",
    "        prev_x = x.copy()\n",
    "        for i in range(N):\n",
    "            sum = 0.0\n",
    "            for j in range(graph_csr.indptr[i], graph_csr.indptr[i+1]):\n",
    "                col = graph_csr.indices[j]\n",
    "                sum += graph_csr.data[j] * prev_x[col] / out_degree[col]\n",
    "            x[i] = damping_factor * sum + (1 - damping_factor) / N\n",
    "        if np.abs(prev_x - x).max() < tol:\n",
    "            break\n",
    "\n",
    "    return x"
   ]
  },
  {
   "attachments": {},
   "cell_type": "markdown",
   "id": "VlEywNx7XQnB",
   "metadata": {
    "id": "VlEywNx7XQnB"
   },
   "source": [
    "# 3. Parallel Implementation with CPU"
   ]
  },
  {
   "cell_type": "code",
   "execution_count": 8,
   "id": "ef108c2b-9c00-4737-969d-9e8f77df582c",
   "metadata": {
    "id": "ef108c2b-9c00-4737-969d-9e8f77df582c",
    "tags": []
   },
   "outputs": [],
   "source": [
    "def pagerank_cpu(graph_coo, max_iter, tol, num_threads):\n",
    "    \"\"\"\n",
    "    Computes the PageRank score of each node in the graph using with parallelization using CPU threads.\n",
    "\n",
    "    Parameters:\n",
    "        graph_coo (scipy.sparse.coo_matrix): The adjacency matrix of the graph in COO format.\n",
    "        max_iter (int): The maximum number of iterations. Default is 100.\n",
    "        tol (float): The tolerance for convergence. Default is 1e-6.\n",
    "        num_threads (int): The number of threads to use for parallelization. Default is the number of CPU cores.\n",
    "\n",
    "    Returns:\n",
    "        numpy.ndarray: The PageRank scores of each node in the graph.\n",
    "    \"\"\"\n",
    "\n",
    "    # Convert COO matrix to CSR matrix\n",
    "    graph_csr = graph_coo.tocsr()\n",
    "    N = graph_csr.shape[0]\n",
    "\n",
    "    # Calculate the out-degree for each node\n",
    "    out_degree = graph_csr.sum(axis=1).A.ravel().astype(np.float32)\n",
    "\n",
    "    # Initialize the PageRank score for each node\n",
    "    x = np.full(N, 1/N, dtype=np.float32)\n",
    "\n",
    "    # Run the PageRank algorithm\n",
    "    damping_factor = 0.85\n",
    "    with ProcessPoolExecutor(max_workers=num_threads) as executor:\n",
    "        for _ in range(max_iter):\n",
    "            prev_x = x.copy()\n",
    "            futures = []\n",
    "            for i in range(N):\n",
    "                futures.append(executor.submit(pagerank_step, i, graph_csr.indptr, graph_csr.indices, graph_csr.data, prev_x, out_degree, damping_factor, N))\n",
    "            for i, future in enumerate(futures):\n",
    "                x[i] = future.result()\n",
    "            if np.abs(prev_x - x).max() < tol:\n",
    "                break\n",
    "\n",
    "    return x\n",
    "\n",
    "\n",
    "def pagerank_step(i, indptr, indices, data, prev_x, out_degree, damping_factor, N):\n",
    "    sum = 0.0\n",
    "    for j in range(indptr[i], indptr[i+1]):\n",
    "        col = indices[j]\n",
    "        sum += data[j] * prev_x[col] / out_degree[col]\n",
    "    return damping_factor * sum + (1 - damping_factor) / N"
   ]
  },
  {
   "attachments": {},
   "cell_type": "markdown",
   "id": "E-6R-cWKXZYJ",
   "metadata": {
    "id": "E-6R-cWKXZYJ"
   },
   "source": [
    "# 4. Parallel Implemenrtation using GPU"
   ]
  },
  {
   "cell_type": "code",
   "execution_count": 9,
   "id": "4ec25767-116c-4586-89dd-dbaac880bb6a",
   "metadata": {
    "id": "4ec25767-116c-4586-89dd-dbaac880bb6a",
    "tags": []
   },
   "outputs": [],
   "source": [
    "def pagerank_gpu(graph, max_iter, tol):\n",
    "    \"\"\"\n",
    "    Computes the PageRank score of each node in the graph with GPU parallelization using PyCUDA.\n",
    "\n",
    "    Parameters:\n",
    "    graph (scipy.sparse.csr_matrix): The adjacency matrix of the graph in CSR format.\n",
    "    max_iter (int): The maximum number of iterations. Default is 1000.\n",
    "    tol (float): The tolerance for convergence. Default is 1e-6.\n",
    "\n",
    "    Returns:\n",
    "    numpy.ndarray: The PageRank scores of each node in the graph.\n",
    "    \"\"\"\n",
    "\n",
    "    # Convert the graph to the CSR format\n",
    "    graph = graph.tocsr()\n",
    "    N = graph.shape[0]\n",
    "    edges = graph.indices.astype(np.int32)\n",
    "    indptr = graph.indptr.astype(np.int32)\n",
    "    out_degree = np.diff(indptr).astype(np.int32)\n",
    "    pagerank = np.ones(N, dtype=np.float32) / N\n",
    "    damping_factor = 0.85\n",
    "    teleport_probability = (1.0 - damping_factor) / N\n",
    "\n",
    "    # Find dangling nodes\n",
    "    dangling_nodes = np.where(out_degree == 0)[0]\n",
    "    dangling_rank = np.sum(pagerank[dangling_nodes])\n",
    "\n",
    "    # Define the pagerank kernel\n",
    "    pagerank_kernel_code = \"\"\"\n",
    "        __global__ void pagerank_kernel(float *pagerank, const int *edges, const int *indptr, const int *out_degree, const float damping_factor, const float teleport_probability, const float dangling_rank)\n",
    "        {\n",
    "            const int i = blockIdx.x * blockDim.x + threadIdx.x;\n",
    "            const int N = %(N)s;\n",
    "            const float one_minus_damping = 1.0f - damping_factor;\n",
    "\n",
    "            if (i < N) {\n",
    "                float sum = 0.0f;\n",
    "                for (int j = indptr[i]; j < indptr[i+1]; j++) {\n",
    "                    const int neighbor = edges[j];\n",
    "                    const int neighbor_degree = out_degree[neighbor];\n",
    "                    sum += pagerank[neighbor] / neighbor_degree;\n",
    "                }\n",
    "                pagerank[i] = one_minus_damping * teleport_probability + damping_factor * sum + one_minus_damping * dangling_rank / N;\n",
    "            }\n",
    "        }\n",
    "    \"\"\" % {\"N\": N}\n",
    "    pagerank_kernel = SourceModule(pagerank_kernel_code).get_function(\"pagerank_kernel\")\n",
    "\n",
    "    # Run the pagerank algorithm\n",
    "    last_pagerank = np.zeros(N, dtype=np.float32)\n",
    "    for i in range(max_iter):\n",
    "        pagerank_kernel(cuda.InOut(pagerank), cuda.In(edges), cuda.In(indptr), cuda.In(out_degree), np.float32(damping_factor), np.float32(teleport_probability), np.float32(dangling_rank), block=(128, 1, 1), grid=((N + 127) // 128, 1, 1))\n",
    "        cuda.Context.synchronize()\n",
    "        if np.linalg.norm(pagerank - last_pagerank, np.inf) < tol:\n",
    "            break\n",
    "            \n",
    "        last_pagerank[:] = pagerank\n",
    "        \n",
    "    # Normalize the pagerank vector to sum up to 1\n",
    "    pagerank /= np.sum(pagerank)\n",
    "\n",
    "    return pagerank\n"
   ]
  },
  {
   "attachments": {},
   "cell_type": "markdown",
   "id": "3oR_rV2SXgOU",
   "metadata": {
    "id": "3oR_rV2SXgOU"
   },
   "source": [
    "# 5. Results"
   ]
  },
  {
   "attachments": {},
   "cell_type": "markdown",
   "id": "V8j44OSHYxlB",
   "metadata": {
    "id": "V8j44OSHYxlB"
   },
   "source": [
    "## 5.1 Hyperparametter Setting"
   ]
  },
  {
   "cell_type": "code",
   "execution_count": 10,
   "id": "lbSXS_SMY1Vk",
   "metadata": {
    "id": "lbSXS_SMY1Vk",
    "tags": []
   },
   "outputs": [],
   "source": [
    "max_iter = 100\n",
    "tol = 1.0e-6\n",
    "num_threads=4"
   ]
  },
  {
   "attachments": {},
   "cell_type": "markdown",
   "id": "JIF1qhvvY3pl",
   "metadata": {
    "id": "JIF1qhvvY3pl"
   },
   "source": [
    "# #5.2 Comparison of results"
   ]
  },
  {
   "cell_type": "code",
   "execution_count": 20,
   "id": "6cTi1ogLY203",
   "metadata": {
    "id": "6cTi1ogLY203",
    "tags": []
   },
   "outputs": [],
   "source": [
    "def compute_pagerank_times(node_list, conn_list, max_iter, tol):\n",
    "\n",
    "    \"\"\"\n",
    "    Computes the PageRank score of each node in the graph using NumPy with CPU parallelization.\n",
    "\n",
    "    Parameters:\n",
    "    node_list (list): A list of integers specifying the number of nodes in each graph.\n",
    "    conn_list (list): A list of integers specifying the minimum number of connections per node in each graph.\n",
    "    max_iter (int): The maximum number of iterations. Default is 100.\n",
    "    tol (float): The tolerance for convergence. Default is 1e-6.\n",
    "\n",
    "    Returns:\n",
    "    pandas.DataFrame: A DataFrame containing the results of the PageRank computation for each graph. The DataFrame\n",
    "    has the following columns:\n",
    "    - num_nodes (int): The number of nodes in the graph.\n",
    "    - min_conn_per_node (int): The minimum number of connections per node in the graph.\n",
    "    -numpy_time: The time taken to compute the PageRank score using the numPy/naive implementation.\n",
    "    - cpu_time (float): The time taken to compute the PageRank score using the parallelized CPU implementation.\n",
    "    - gpu_time (float): The time taken to compute the PageRank score using the parallelized GPU implementation.\n",
    "    \"\"\"\n",
    "\n",
    "    df = pd.DataFrame(columns=['num_nodes', 'min_conn_per_node', 'numpy_time', 'gpu_time', 'MSE'])\n",
    "    \n",
    "    for i, n_nodes in enumerate(node_list):\n",
    "        min_conn_per_node = conn_list[i]\n",
    "        \n",
    "        # Generate a sparse graph\n",
    "        graph_coo = generate_connected_graph(n_nodes=n_nodes, min_conn_per_node=min_conn_per_node)\n",
    "        \n",
    "        # Compute the PageRank using the NumPy implementation\n",
    "        start_time = time.time()\n",
    "        pagerank_scores1 = pagerank_numpy(graph_coo, max_iter, tol)\n",
    "        numpy_time = time.time() - start_time\n",
    "        \n",
    "        # # Compute the PageRank using the CPU implementation\n",
    "        # start_time = time.time()\n",
    "        # pagerank_scores2 = pagerank_cpu(graph_coo, max_iter, tol, num_threads)\n",
    "        # cpu_time = time.time() - start_time\n",
    "        \n",
    "        # Compute the PageRank using the GPU implementation\n",
    "        start_time = time.time()\n",
    "        pagerank_scores3 = pagerank_gpu(graph_coo, max_iter, tol)\n",
    "        gpu_time = time.time() - start_time\n",
    "        \n",
    "        mse = ((pagerank_scores1 - pagerank_scores3) ** 2).mean()\n",
    "        \n",
    "        row_dict = {'num_nodes': n_nodes,\n",
    "                    'min_conn_per_node': min_conn_per_node,\n",
    "                    'numpy_time': numpy_time,\n",
    "                    'gpu_time': gpu_time,\n",
    "                    'MSE': mse\n",
    "                   }\n",
    "        df = pd.concat([df, pd.DataFrame([row_dict])], ignore_index=True)\n",
    "        \n",
    "    return df"
   ]
  },
  {
   "cell_type": "code",
   "execution_count": 22,
   "id": "c1b6Tg-qbp5z",
   "metadata": {
    "id": "c1b6Tg-qbp5z",
    "tags": []
   },
   "outputs": [],
   "source": [
    "nodes_list = [1000, 2000, 4000, 6000, 8000, 10000]\n",
    "min_conn_list = [100, 200, 400, 600, 800, 1000]\n",
    "times_df= compute_pagerank_times(nodes_list, min_conn_list, max_iter, tol)"
   ]
  },
  {
   "cell_type": "code",
   "execution_count": 3,
   "id": "39DK0vRJk3rR",
   "metadata": {
    "id": "39DK0vRJk3rR",
    "tags": []
   },
   "outputs": [],
   "source": [
    "import pickle\n",
    "with open('times_df2.pkl', 'wb') as handle:\n",
    "    pickle.dump(times_df, handle, protocol=pickle.HIGHEST_PROTOCOL)"
   ]
  },
  {
   "cell_type": "code",
   "execution_count": 51,
   "id": "SrJAJttgdbqa",
   "metadata": {
    "id": "SrJAJttgdbqa",
    "tags": []
   },
   "outputs": [],
   "source": [
    "def plot_pagerank_times(df):\n",
    "    \"\"\"\n",
    "    Plots the PageRank computation time for different implementations.\n",
    "\n",
    "    Parameters:\n",
    "    times_df (pandas.DataFrame): A DataFrame containing the computation times for each implementation.\n",
    "\n",
    "    Returns:\n",
    "    None\n",
    "    \"\"\"\n",
    "    fig, ax = plt.subplots()\n",
    "\n",
    "    # Plot the GPU time\n",
    "    df.plot(x='num_nodes', y='gpu_time', ax=ax, label='GPU', color='lightseagreen')\n",
    "\n",
    "    # Plot the NumPy time\n",
    "    df.plot(x='num_nodes', y='numpy_time', ax=ax, label='NumPy', color='lightcoral')\n",
    "\n",
    "    # Plot the CPU time\n",
    "    # df.plot(x='num_nodes', y='cpu_time', ax=ax, label='CPU')\n",
    "\n",
    "    # Set the title and axis labels\n",
    "    ax.set_title('PageRank computation time')\n",
    "    ax.set_xlabel('Number of nodes')\n",
    "    ax.set_ylabel('Time (seconds)')\n",
    "\n",
    "    # Display the legend\n",
    "    ax.legend()\n",
    "\n",
    "    # # Show the plot\n",
    "    plt.show()\n"
   ]
  },
  {
   "cell_type": "code",
   "execution_count": 52,
   "id": "c7npplyIdw-Q",
   "metadata": {
    "colab": {
     "base_uri": "https://localhost:8080/",
     "height": 166
    },
    "id": "c7npplyIdw-Q",
    "outputId": "c0993d96-c9e4-4c94-f20f-e15846a6a6c9",
    "tags": []
   },
   "outputs": [
    {
     "data": {
      "image/png": "[encoded data removed]",
      "text/plain": [
       "<Figure size 640x480 with 1 Axes>"
      ]
     },
     "metadata": {},
     "output_type": "display_data"
    }
   ],
   "source": [
    "plot_pagerank_times(times_df)\n",
    "# times_df.head()"
   ]
  },
  {
   "cell_type": "code",
   "execution_count": null,
   "id": "e5c7f7fd-1efd-40f4-a4a6-eaf24db8f385",
   "metadata": {
    "id": "e5c7f7fd-1efd-40f4-a4a6-eaf24db8f385",
    "tags": []
   },
   "outputs": [],
   "source": [
    "def measure_time(\n",
    "    stmt: Callable,\n",
    "    context: Optional[Dict[str, Any]] = None,\n",
    "    repeat: int = 10,\n",
    "    number: int = 50,\n",
    "    div_by_number: bool = True,\n",
    "    max_time: Optional[float] = None,\n",
    ") -> Dict[str, Any]:\n",
    "    \"\"\"\n",
    "    Measures a statement and returns the results as a dictionary.\n",
    "\n",
    "    :param stmt: string\n",
    "    :param context: variable to know in a dictionary\n",
    "    :param repeat: average over *repeat* experiment\n",
    "    :param number: number of executions in one row\n",
    "    :param div_by_number: divide by the number of executions\n",
    "    :param max_time: execute the statement until the total goes\n",
    "        beyond this time (approximatively), *repeat* is ignored,\n",
    "        *div_by_number* must be set to True\n",
    "    :return: dictionary\n",
    "\n",
    "    .. runpython::\n",
    "        :showcode:\n",
    "\n",
    "        from onnx_extended.ext_test_case import measure_time\n",
    "        from math import cos\n",
    "\n",
    "        res = measure_time(lambda: cos(0.5))\n",
    "        print(res)\n",
    "\n",
    "    See `Timer.repeat <https://docs.python.org/3/library/\n",
    "    timeit.html?timeit.Timer.repeat>`_\n",
    "    for a better understanding of parameter *repeat* and *number*.\n",
    "    The function returns a duration corresponding to\n",
    "    *number* times the execution of the main statement.\n",
    "\n",
    "    .. versionchanged:: 0.4\n",
    "        Parameter *max_time* was added.\n",
    "    \"\"\"\n",
    "    if not callable(stmt) and not isinstance(stmt, str):\n",
    "        raise TypeError(\n",
    "            f\"stmt is not callable or a string but is of type {type(stmt)!r}.\"\n",
    "        )\n",
    "    if context is None:\n",
    "        context = {}\n",
    "\n",
    "    import numpy\n",
    "\n",
    "    if isinstance(stmt, str):\n",
    "        tim = Timer(stmt, globals=context)\n",
    "    else:\n",
    "        tim = Timer(stmt)\n",
    "\n",
    "    if max_time is not None:\n",
    "        if not div_by_number:\n",
    "            raise ValueError(\n",
    "                \"div_by_number must be set to True of max_time is defined.\"\n",
    "            )\n",
    "        i = 1\n",
    "        total_time = 0\n",
    "        results = []\n",
    "        while True:\n",
    "            for j in (1, 2):\n",
    "                number = i * j\n",
    "                time_taken = tim.timeit(number)\n",
    "                results.append((number, time_taken))\n",
    "                total_time += time_taken\n",
    "                if total_time >= max_time:\n",
    "                    break\n",
    "            if total_time >= max_time:\n",
    "                break\n",
    "            ratio = (max_time - total_time) / total_time\n",
    "            ratio = max(ratio, 1)\n",
    "            i = int(i * ratio)\n",
    "\n",
    "        res = numpy.array(results)\n",
    "        tw = res[:, 0].sum()\n",
    "        ttime = res[:, 1].sum()\n",
    "        mean = ttime / tw\n",
    "        ave = res[:, 1] / res[:, 0]\n",
    "        dev = (((ave - mean) ** 2 * res[:, 0]).sum() / tw) ** 0.5\n",
    "        mes = dict(\n",
    "            average=mean,\n",
    "            deviation=dev,\n",
    "            min_exec=numpy.min(ave),\n",
    "            max_exec=numpy.max(ave),\n",
    "            repeat=1,\n",
    "            number=tw,\n",
    "            ttime=ttime,\n",
    "        )\n",
    "    else:\n",
    "        res = numpy.array(tim.repeat(repeat=repeat, number=number))\n",
    "        if div_by_number:\n",
    "            res /= number\n",
    "\n",
    "        mean = numpy.mean(res)\n",
    "        dev = numpy.mean(res**2)\n",
    "        dev = (dev - mean**2) ** 0.5\n",
    "        mes = dict(\n",
    "            average=mean,\n",
    "            deviation=dev,\n",
    "            min_exec=numpy.min(res),\n",
    "            max_exec=numpy.max(res),\n",
    "            repeat=repeat,\n",
    "            number=number,\n",
    "            ttime=res.sum(),\n",
    "        )\n",
    "\n",
    "    if \"values\" in context:\n",
    "        if hasattr(context[\"values\"], \"shape\"):\n",
    "            mes[\"size\"] = context[\"values\"].shape[0]\n",
    "        else:\n",
    "            mes[\"size\"] = len(context[\"values\"])\n",
    "    else:\n",
    "        mes[\"context_size\"] = sys.getsizeof(context)\n",
    "    return mes"
   ]
  }
 ],
 "metadata": {
  "accelerator": "GPU",
  "colab": {
   "gpuType": "T4",
   "provenance": []
  },
  "gpuClass": "standard",
  "kernelspec": {
   "display_name": "Python 3 (ipykernel)",
   "language": "python",
   "name": "python3"
  },
  "language_info": {
   "codemirror_mode": {
    "name": "ipython",
    "version": 3
   },
   "file_extension": ".py",
   "mimetype": "text/x-python",
   "name": "python",
   "nbconvert_exporter": "python",
   "pygments_lexer": "ipython3",
   "version": "3.9.9"
  }
 },
 "nbformat": 4,
 "nbformat_minor": 5
}
